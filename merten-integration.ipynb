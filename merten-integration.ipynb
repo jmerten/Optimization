{
 "cells": [
  {
   "cell_type": "markdown",
   "metadata": {},
   "source": [
    "# M7 - Heuristics\n",
    "## *Jason Merten*"
   ]
  },
  {
   "cell_type": "code",
   "execution_count": 1,
   "metadata": {},
   "outputs": [],
   "source": [
    "import mysql.connector\n",
    "import gurobipy as gp\n",
    "from gurobipy import GRB \n",
    "import pandas as pd\n",
    "import numpy as np"
   ]
  },
  {
   "cell_type": "code",
   "execution_count": 2,
   "metadata": {},
   "outputs": [],
   "source": [
    "db = mysql.connector.connect(user='root',password='root',host='localhost',database='final_integration')\n",
    "cur = db.cursor()"
   ]
  },
  {
   "cell_type": "code",
   "execution_count": 3,
   "metadata": {},
   "outputs": [],
   "source": [
    "def populateMilage():\n",
    "    file = pd.read_excel('final-integration-US-mileage.xlsx',header=0,index_col=0)\n",
    "    final = file.where(np.triu(np.ones(file.shape)).astype('bool')).stack().reset_index().rename(columns={' ':'Source','level_1':'Destination',0:'Distance'})\n",
    "    # final = file.stack().reset_index().rename(columns={' ':'Source','level_1':'Destination',0:'Distance'})\n",
    "    print(len(final))\n",
    "    for i in final.index:\n",
    "        cur.execute('insert into distance (source,destination,distance) values (%s,%s,%s)',(final['Source'][i],final['Destination'][i],final['Distance'][i]))\n",
    "        if i%500 == 0:\n",
    "            db.commit()\n",
    "        if i%50000 == 0:\n",
    "            print('--- Still Running --- Row #: {}'.format(i))\n",
    "    db.commit()"
   ]
  },
  {
   "cell_type": "code",
   "execution_count": 4,
   "metadata": {},
   "outputs": [
    {
     "name": "stdout",
     "output_type": "stream",
     "text": [
      "496509\n",
      "--- Still Running --- Row #: 0\n",
      "--- Still Running --- Row #: 50000\n",
      "--- Still Running --- Row #: 100000\n",
      "--- Still Running --- Row #: 150000\n",
      "--- Still Running --- Row #: 200000\n",
      "--- Still Running --- Row #: 250000\n",
      "--- Still Running --- Row #: 300000\n",
      "--- Still Running --- Row #: 350000\n",
      "--- Still Running --- Row #: 400000\n",
      "--- Still Running --- Row #: 450000\n"
     ]
    }
   ],
   "source": [
    "populateMilage()\n",
    "cur.close()\n",
    "db.close()"
   ]
  },
  {
   "cell_type": "code",
   "execution_count": 4,
   "metadata": {},
   "outputs": [
    {
     "name": "stdout",
     "output_type": "stream",
     "text": [
      "\n",
      "--------------------------------------------\n",
      "Warning: your license will expire in 7 days\n",
      "--------------------------------------------\n",
      "\n",
      "Academic license - for non-commercial use only - expires 2021-08-30\n",
      "Using license file C:\\Users\\jmert\\gurobi.lic\n"
     ]
    }
   ],
   "source": [
    "# Gurobi code\n",
    "m = gp.Model('SharkTank')\n",
    "\n",
    "# Set decision variables\n",
    "demand = {'Boston, MA': 1051,\n",
    "          'Chicago, IL': 940,\n",
    "          'Dallas, TX': 1131,\n",
    "          'Denver, CO': 466,\n",
    "          'Los Angeles, CA': 1301,\n",
    "          'Richmond, VA': 1171,\n",
    "          'Miami, FL': 1463,\n",
    "          'New York City, NY': 1120,\n",
    "          'Phoenix, AZ': 665,\n",
    "          'Pittsburgh, PA': 1280,\n",
    "          'San Francisco, CA': 615,\n",
    "          'Seattle, WA': 528}\n",
    "select = {}\n",
    "service = {}\n",
    "for source in demand.keys():\n",
    "    m.addVar(vtype=GRB.BINARY,name=source)\n",
    "    m.update()\n",
    "    select[source] = m.getVarByName(source)\n",
    "    service[source] = {}\n",
    "    for destination in demand.keys():\n",
    "        m.addVar(vtype=GRB.BINARY,name=source+'_'+destination)\n",
    "        m.update()\n",
    "        service[source][destination] = m.getVarByName(source+'_'+destination)\n",
    "    m.update()\n",
    "\n",
    "# Convert to data frame for ease of access\n",
    "service = pd.DataFrame(service)\n",
    "\n",
    "# Add constraints\n",
    "m.addConstr(gp.quicksum(select.values()),GRB.EQUAL,3)\n",
    "for source in demand.keys():\n",
    "    m.addConstr(gp.quicksum(service[source].values.tolist()),GRB.EQUAL,1)\n",
    "for site in demand.keys():\n",
    "    m.addConstr(gp.quicksum(service.loc(axis=0)[site].values.tolist()),GRB.LESS_EQUAL,select[site]*len(demand.keys()))\n",
    "m.update()\n"
   ]
  },
  {
   "cell_type": "code",
   "execution_count": 7,
   "metadata": {},
   "outputs": [
    {
     "name": "stdout",
     "output_type": "stream",
     "text": [
      "--- Still Running ---\n",
      "--- Still Running ---\n",
      "--- Still Running ---\n",
      "--- Still Running ---\n",
      "--- Still Running ---\n",
      "--- Still Running ---\n",
      "--- Still Running ---\n",
      "--- Still Running ---\n",
      "--- Still Running ---\n",
      "--- Still Running ---\n",
      "--- Still Running ---\n",
      "--- Still Running ---\n",
      "--- Still Running ---\n",
      "--- Still Running ---\n"
     ]
    }
   ],
   "source": [
    "# Populate distance matrix\n",
    "db = mysql.connector.connect(user='root',password='root',host='localhost',database='final_integration')\n",
    "cur = db.cursor()\n",
    "dis_matrix = {x:{} for x in demand.keys()}\n",
    "i = 0\n",
    "for source in demand.keys():\n",
    "    for destination in demand.keys():\n",
    "        if i == 6:\n",
    "            print('--- Still Running ---')\n",
    "        if source == destination:\n",
    "            dis_matrix[source][destination] = 0\n",
    "            continue\n",
    "        cur.execute('select distance from distance where (source = %s or destination = %s) and (source = %s or destination = %s)',(source,source,destination,destination))\n",
    "        dis_matrix[source][destination] = cur.fetchone()[0]\n",
    "        i += 1\n",
    "    i = 0\n",
    "dis_matrix = pd.DataFrame(dis_matrix)\n",
    "cur.close()\n",
    "db.close()"
   ]
  },
  {
   "cell_type": "code",
   "execution_count": 13,
   "metadata": {},
   "outputs": [
    {
     "name": "stdout",
     "output_type": "stream",
     "text": [
      "Gurobi Optimizer version 9.1.2 build v9.1.2rc0 (win64)\n",
      "Thread count: 12 physical cores, 24 logical processors, using up to 24 threads\n",
      "Optimize a model with 25 rows, 156 columns and 312 nonzeros\n",
      "Model fingerprint: 0x5a060cfe\n",
      "Variable types: 0 continuous, 156 integer (156 binary)\n",
      "Coefficient statistics:\n",
      "  Matrix range     [1e+00, 1e+01]\n",
      "  Objective range  [2e+02, 5e+03]\n",
      "  Bounds range     [1e+00, 1e+00]\n",
      "  RHS range        [1e+00, 3e+00]\n",
      "\n",
      "Loaded MIP start from previous solve with objective 5836.64\n",
      "\n",
      "Presolve time: 0.00s\n",
      "Presolved: 25 rows, 156 columns, 312 nonzeros\n",
      "Variable types: 0 continuous, 156 integer (156 binary)\n",
      "\n",
      "Root relaxation: objective 0.000000e+00, 24 iterations, 0.00 seconds\n",
      "\n",
      "    Nodes    |    Current Node    |     Objective Bounds      |     Work\n",
      " Expl Unexpl |  Obj  Depth IntInf | Incumbent    BestBd   Gap | It/Node Time\n",
      "\n",
      "     0     0    0.00000    0   10 5836.64185    0.00000   100%     -    0s\n",
      "     0     0 2719.37045    0   17 5836.64185 2719.37045  53.4%     -    0s\n",
      "H    0     0                    5437.4714683 2719.37045  50.0%     -    0s\n",
      "     0     0 4111.23112    0   25 5437.47147 4111.23112  24.4%     -    0s\n",
      "H    0     0                    5378.7324575 4111.23112  23.6%     -    0s\n",
      "     0     0 4614.13390    0   33 5378.73246 4614.13390  14.2%     -    0s\n",
      "*    0     0               0    5043.0859993 5043.08600  0.00%     -    0s\n",
      "\n",
      "Explored 1 nodes (130 simplex iterations) in 0.03 seconds\n",
      "Thread count was 24 (of 24 available processors)\n",
      "\n",
      "Solution count 4: 5043.09 5378.73 5437.47 5836.64 \n",
      "\n",
      "Optimal solution found (tolerance 1.00e-04)\n",
      "Best objective 5.043085999341e+03, best bound 5.043085999341e+03, gap 0.0000%\n"
     ]
    }
   ],
   "source": [
    "# Define objective value\n",
    "\n",
    "m.setObjective(gp.quicksum(demand[city] * (dis_matrix[city].values @ service[city].values) / 1000 for city in demand.keys()),GRB.MINIMIZE)\n",
    "m.optimize()"
   ]
  },
  {
   "cell_type": "markdown",
   "metadata": {},
   "source": [
    "## Model\n",
    "\n",
    "To import the Solver model into Gurobi I needed to create 12 source binary variables and 144 source_destination binary variables.  To help with later in the process, I stored each set of these variables into dictionaries.  The source_destination dictionary was converted to a DataFrame for ease of access when setting the objective.  From there, creating the constraints was relatively straight forward using the gp.quicksum() function.  There were a few problem areas when using the quicksum function with pandas, which is why you'll see the .values.tolist() calls to help get them into lists for the function to work properly.  From this point, I read in the distances from SQL and stored them into a DataFrame and set the objective function by performing matrix multiplication.  The results are nearly identical (~1.73 difference in total distance, probably due to rounding error in Excel) with the same cities being chosen for the manufacturing locations."
   ]
  },
  {
   "cell_type": "markdown",
   "metadata": {},
   "source": [
    "# Question 1:\n",
    "## Where should you locate your manufacturing centers to minimize the total distance traveled to meet shipping demand?"
   ]
  },
  {
   "cell_type": "code",
   "execution_count": 32,
   "metadata": {},
   "outputs": [
    {
     "name": "stdout",
     "output_type": "stream",
     "text": [
      "Manufacturing location: Los Angeles, CA\n",
      "Manufacturing location: Miami, FL\n",
      "Manufacturing location: Pittsburgh, PA\n"
     ]
    }
   ],
   "source": [
    "for x in select:\n",
    "    if select[x].X > 0:\n",
    "        print('Manufacturing location: {}'.format(x))"
   ]
  },
  {
   "cell_type": "markdown",
   "metadata": {},
   "source": [
    "# Question 2:\n",
    "## What manufacturing sites will service each city?\n"
   ]
  },
  {
   "cell_type": "code",
   "execution_count": 40,
   "metadata": {},
   "outputs": [
    {
     "name": "stdout",
     "output_type": "stream",
     "text": [
      "Los Angeles, CA services: \n",
      "\tDenver, CO\n",
      "\tLos Angeles, CA\n",
      "\tPhoenix, AZ\n",
      "\tSan Francisco, CA\n",
      "\tSeattle, WA\n",
      "Miami, FL services: \n",
      "\tMiami, FL\n",
      "Pittsburgh, PA services: \n",
      "\tBoston, MA\n",
      "\tChicago, IL\n",
      "\tDallas, TX\n",
      "\tRichmond, VA\n",
      "\tNew York City, NY\n",
      "\tPittsburgh, PA\n"
     ]
    }
   ],
   "source": [
    "for x in select:\n",
    "    if select[x].X > 0:\n",
    "        print('{} services: '.format(x))\n",
    "        for j in service.loc(axis=0)[x]:\n",
    "            if j.X > 0:\n",
    "                print('\\t'+j.VarName.split('_')[0])"
   ]
  },
  {
   "cell_type": "markdown",
   "metadata": {},
   "source": [
    "# Question 3:\n",
    "## What is the total number of miles traveled to satisfy the demand?"
   ]
  },
  {
   "cell_type": "code",
   "execution_count": 56,
   "metadata": {},
   "outputs": [
    {
     "name": "stdout",
     "output_type": "stream",
     "text": [
      "Total miles traveled: 5043.086 miles\n"
     ]
    }
   ],
   "source": [
    "print('Total miles traveled: %.3f miles' % m.getAttr('objVal'))"
   ]
  },
  {
   "cell_type": "markdown",
   "metadata": {},
   "source": [
    "# Question 4:\n",
    "## Can you devise a greedy heuristic algorithm that produces the same recommendation?\n",
    "\n",
    "To create a greedy algorithm to solve the same problem, you would need to start by looking at the coverage of each city with relation to the others using a maximum radius value (below I used 1200 miles).  From there, you would select the city that has the highest number of covered cities as the first manufacturing site.  You'll need to store all cities covered by the first manufacturing site into a list or dictionary to track what other cities are left and use it to find the next city that will provide the most additional coverage as the second manufacturing site.  You'll repeat the process for the third manufacturing site that completes the total coverage of all cities.  This should give you an approximate optimal solution."
   ]
  },
  {
   "cell_type": "code",
   "execution_count": 110,
   "metadata": {},
   "outputs": [],
   "source": [
    "coverage = dis_matrix.where(dis_matrix.values <= 1200)\n",
    "sizes = {x:0 for x in demand.keys()}\n",
    "for x in demand.keys():\n",
    "    sizes[x] = (demand[x] * coverage[x].notnull().sum()) / coverage[x].notnull().sum()\n",
    "# cities = [x for x in demand.keys()]\n",
    "# coverage['Boston, MA'].notnull()"
   ]
  },
  {
   "cell_type": "code",
   "execution_count": 115,
   "metadata": {},
   "outputs": [
    {
     "data": {
      "text/plain": [
       "['Richmond, VA', 'Miami, FL']"
      ]
     },
     "execution_count": 115,
     "metadata": {},
     "output_type": "execute_result"
    }
   ],
   "source": [
    "covered = []\n",
    "covered.append(coverage[coverage['Miami, FL'].notnull()].index.tolist())"
   ]
  }
 ],
 "metadata": {
  "interpreter": {
   "hash": "cf70e45ae3769215133bb87a45b0fd4931914896f46c6ebdb45d1d46a8f7d976"
  },
  "kernelspec": {
   "display_name": "Python 3 (ipykernel)",
   "language": "python",
   "name": "python3"
  },
  "language_info": {
   "codemirror_mode": {
    "name": "ipython",
    "version": 3
   },
   "file_extension": ".py",
   "mimetype": "text/x-python",
   "name": "python",
   "nbconvert_exporter": "python",
   "pygments_lexer": "ipython3",
   "version": "3.8.10"
  }
 },
 "nbformat": 4,
 "nbformat_minor": 2
}
